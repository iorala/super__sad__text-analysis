{
 "cells": [
  {
   "cell_type": "code",
   "execution_count": 56,
   "outputs": [
    {
     "name": "stdout",
     "output_type": "stream",
     "text": [
      "Das Dateiformat ist gültig.\n",
      "Gültige Werte: ['ï»¿Die Bewertung ist gut', '', 'c', '', '', '', '', '', '', '', 'Alles ist scheisse', '', '222', '', 'dddd', 'Top Produkt', '', '', '', '', '', '', '', '555', '', '', '', '', '', '', 'Herzogin Meghan glÃ¤nzt in einem Gold-Look fÃ¼r mehr als 11â€™000 Franken\\n\\nAm Dienstagabend nahm Herzogin Meghan in New York den Â«Woman of VisionÂ»-Award entgegen. FÃ¼r den Anlass wÃ¤hlte die 41-JÃ¤hrige ein Outfit mit diversen Hinguckern.', '', '', '', '', '', '', '', '', '', 'HÃ¼hner', '', '', '', '']\n"
     ]
    }
   ],
   "source": [
    "#Option 1\n",
    "import csv\n",
    "\n",
    "def check_csv_file(filename):\n",
    "    try:\n",
    "        with open(filename, 'r', encoding='utf-8') as file:\n",
    "            dialect = csv.Sniffer().sniff(file.read(1024))\n",
    "            file.seek(0)\n",
    "            reader = csv.reader(file, dialect)\n",
    "\n",
    "            num_columns = None\n",
    "            valid_values = []\n",
    "            for i, row in enumerate(reader):\n",
    "                if i == 0:\n",
    "                    num_columns = len(row)\n",
    "                elif len(row) != num_columns:\n",
    "                    print(\"Fehler: Die Datei enthält Zeilen mit unterschiedlicher Anzahl von Spalten.\")\n",
    "                    return\n",
    "\n",
    "                for value in row:\n",
    "                    if not isinstance(value, str):\n",
    "                        print(\"Fehler: Die Datei enthält ungültige Daten.\")\n",
    "                        return\n",
    "                    valid_values.append(value)\n",
    "\n",
    "            print(\"Das Dateiformat ist gültig.\")\n",
    "            print(\"Gültige Werte:\", valid_values)\n",
    "    except (FileNotFoundError, csv.Error):\n",
    "        print(\"Fehler: Die Datei hat kein gültiges CSV-Format.\")\n",
    "\n",
    "# Aufruf\n",
    "check_csv_file('ImportSAD2.csv') #Dateipfad anpassen"
   ],
   "metadata": {
    "collapsed": false
   }
  },
  {
   "cell_type": "code",
   "execution_count": 54,
   "outputs": [
    {
     "name": "stdout",
     "output_type": "stream",
     "text": [
      "Das Dateiformat ist gültig.\n",
      "Gültige Werte: ['ï»¿Die Bewertung ist gut', 'c', 'Alles ist scheisse', '222', 'dddd', 'Top Produkt', '555', 'Herzogin Meghan glÃ¤nzt in einem Gold-Look fÃ¼r mehr als 11â€™000 Franken\\n\\nAm Dienstagabend nahm Herzogin Meghan in New York den Â«Woman of VisionÂ»-Award entgegen. FÃ¼r den Anlass wÃ¤hlte die 41-JÃ¤hrige ein Outfit mit diversen Hinguckern.', 'HÃ¼hner']\n"
     ]
    }
   ],
   "source": [
    "#Option 2\n",
    "import csv\n",
    "\n",
    "def check_csv_file(filename):\n",
    "    try:\n",
    "        with open(filename, 'r', encoding='utf-8') as file:\n",
    "            dialect = csv.Sniffer().sniff(file.read(1024))\n",
    "            file.seek(0)\n",
    "            reader = csv.reader(file, dialect)\n",
    "\n",
    "            num_columns = None\n",
    "            valid_values = []\n",
    "            for i, row in enumerate(reader):\n",
    "                if i == 0:\n",
    "                    num_columns = len(row)\n",
    "                elif len(row) != num_columns:\n",
    "                    print(\"Fehler: Die Datei enthält Zeilen mit unterschiedlicher Anzahl von Spalten.\")\n",
    "                    return\n",
    "\n",
    "                for value in row:\n",
    "                    if value.strip():  # Ignoriere leere Felder\n",
    "                        if not isinstance(value, str):\n",
    "                            print(\"Fehler: Die Datei enthält ungültige Daten.\") #Fehlertypen ergänzen für User, welche Möglichgkeiten es gibt, bzw. auf was geachtet werden soll\n",
    "                            return\n",
    "                        valid_values.append(value)\n",
    "\n",
    "            print(\"Das Dateiformat ist gültig.\")\n",
    "            print(\"Gültige Werte:\", valid_values)\n",
    "    except (FileNotFoundError, csv.Error):\n",
    "        print(\"Fehler: Die Datei hat kein gültiges CSV-Format.\")\n",
    "# Aufruf\n",
    "check_csv_file('ImportSAD2.csv') #Dateipfad anpassen"
   ],
   "metadata": {
    "collapsed": false
   }
  },
  {
   "cell_type": "code",
   "execution_count": 55,
   "outputs": [],
   "source": [],
   "metadata": {
    "collapsed": false
   }
  }
 ],
 "metadata": {
  "kernelspec": {
   "display_name": "Python 3",
   "language": "python",
   "name": "python3"
  },
  "language_info": {
   "codemirror_mode": {
    "name": "ipython",
    "version": 2
   },
   "file_extension": ".py",
   "mimetype": "text/x-python",
   "name": "python",
   "nbconvert_exporter": "python",
   "pygments_lexer": "ipython2",
   "version": "2.7.6"
  }
 },
 "nbformat": 4,
 "nbformat_minor": 0
}
